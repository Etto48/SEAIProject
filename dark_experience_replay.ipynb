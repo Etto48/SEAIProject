{
 "cells": [
  {
   "cell_type": "code",
   "execution_count": 1,
   "id": "f2f79604",
   "metadata": {},
   "outputs": [],
   "source": [
    "import torch\n",
    "import torch.random as random\n",
    "import torch.nn as nn\n",
    "from torchvision import datasets, transforms\n",
    "from torch.utils.data import IterableDataset, Dataset, DataLoader\n",
    "from tqdm.auto import tqdm\n",
    "import numpy as np\n",
    "import matplotlib.pyplot as plt\n",
    "from split_MNIST import SplitMNIST\n",
    "# Enable gpu acceleration if available\n",
    "device = 'cuda' if torch.cuda.is_available() else 'cpu'\n",
    "torch.set_default_device(device)"
   ]
  },
  {
   "cell_type": "code",
   "execution_count": 2,
   "id": "cdb607ef",
   "metadata": {},
   "outputs": [],
   "source": [
    "train_dataset = SplitMNIST()\n",
    "test_dataset = datasets.MNIST(root='data', train=False, download=True, transform=train_dataset.transform, target_transform=torch.tensor)"
   ]
  },
  {
   "cell_type": "code",
   "execution_count": 3,
   "id": "bf061367",
   "metadata": {},
   "outputs": [],
   "source": [
    "class ReplayCNN(nn.Module):\n",
    "    def __init__(self, input_features, hidden_features, conv_depth, ff_depth, classes, dropout=0.1, max_replay=256):\n",
    "        super(ReplayCNN, self).__init__()\n",
    "        self.max_replay = max_replay\n",
    "        self.feature_extractor = nn.Sequential()\n",
    "        for i in range(conv_depth):\n",
    "            in_features = input_features if i == 0 else hidden_features\n",
    "            out_features = hidden_features\n",
    "            self.feature_extractor.append(nn.Conv2d(in_features, out_features, kernel_size=3, padding=1, padding_mode='reflect'))\n",
    "            self.feature_extractor.append(nn.ReLU())\n",
    "            self.feature_extractor.append(nn.Dropout(dropout))\n",
    "            self.feature_extractor.append(nn.MaxPool2d(kernel_size=2, stride=2))\n",
    "        self.feature_extractor.append(nn.AdaptiveAvgPool2d((2, 2)))\n",
    "        self.feature_extractor.append(nn.Flatten())\n",
    "        self.classifier = nn.Sequential()\n",
    "        for i in range(ff_depth):\n",
    "            in_features = hidden_features * 2 * 2 if i == 0 else hidden_features\n",
    "            out_features = hidden_features\n",
    "            self.classifier.append(nn.Linear(in_features, out_features))\n",
    "            self.classifier.append(nn.ReLU())\n",
    "            self.classifier.append(nn.Dropout(dropout))\n",
    "        self.classifier.append(nn.Linear(hidden_features, classes))\n",
    "\n",
    "        self.replay_buffer = []\n",
    "        self.optimizer = torch.optim.Adam(self.parameters(), lr=0.001)\n",
    "        self.criterion = nn.CrossEntropyLoss()\n",
    "        self.kd_criterion = nn.MSELoss()\n",
    "        self.eval()\n",
    "    \n",
    "    def add_experience(self, input, target):\n",
    "        self.eval()\n",
    "        with torch.no_grad():\n",
    "            output = self(input.unsqueeze(0))    \n",
    "        if len(self.replay_buffer) > self.max_replay:\n",
    "            idx = np.random.randint(0, len(self.replay_buffer))\n",
    "            self.replay_buffer[idx] = (input, target, output)\n",
    "        else:\n",
    "            self.replay_buffer.append((input, target, output))\n",
    "    \n",
    "    def _get_replay_buffer_as_tensor(self):\n",
    "        if len(self.replay_buffer) == 0:\n",
    "            return None\n",
    "        inputs, targets, old_outputs = zip(*self.replay_buffer)\n",
    "        inputs = torch.stack(inputs)\n",
    "        targets = torch.stack(targets)\n",
    "        old_outputs = torch.cat(old_outputs, dim=0)\n",
    "        return inputs, targets, old_outputs\n",
    "\n",
    "    def forward(self, x):\n",
    "        x = self.feature_extractor(x)\n",
    "        x = self.classifier(x)\n",
    "        return x\n",
    "    \n",
    "    def replay(self):\n",
    "        batch = self._get_replay_buffer_as_tensor()\n",
    "        if batch is None:\n",
    "            return\n",
    "        self.optimizer.zero_grad()\n",
    "        inputs, targets, old_outputs = batch\n",
    "        outputs: torch.Tensor = self(inputs)\n",
    "        accuracy: torch.Tensor = (outputs.argmax(dim=1) == targets).float().mean()\n",
    "        loss: torch.Tensor = self.criterion(outputs, targets) + 0.1 * self.kd_criterion(outputs, old_outputs)\n",
    "        loss.backward()\n",
    "        self.optimizer.step()\n",
    "        return loss.item(), accuracy.item()\n",
    "\n",
    "    def fit(self, train_dataset: IterableDataset, test_dataset: Dataset):\n",
    "        test_batch_size = 256\n",
    "        self.train()\n",
    "        loading_bar = tqdm(train_dataset, desc=\"Training\", total=len(train_dataset))\n",
    "        for item in loading_bar:\n",
    "            x, y, task = item\n",
    "            x = x.to(device)\n",
    "            y = y.to(device)\n",
    "            self.add_experience(x, y)\n",
    "            loss, accuracy = self.replay()\n",
    "            loading_bar.set_postfix(loss=loss, accuracy=f\"{accuracy:.2%}\")\n",
    "        test_loader = DataLoader(test_dataset, batch_size=test_batch_size, shuffle=True, generator=torch.Generator(device=device))\n",
    "        self.eval()\n",
    "        correct = 0\n",
    "        total = 0\n",
    "        with torch.no_grad():\n",
    "            loading_bar = tqdm(test_loader, desc=\"Testing\", total=len(test_loader))\n",
    "            confusion_matrix = torch.zeros(10, 10, dtype=torch.int64)\n",
    "            for x, y in loading_bar:\n",
    "                x = x.to(device)\n",
    "                y = y.to(device)\n",
    "                outputs = self(x)\n",
    "                total += y.shape[0]\n",
    "                correct += (outputs.argmax(dim=1) == y).sum().item()\n",
    "                accuracy = correct / total\n",
    "                confusion_matrix += torch.bincount(y * 10 + outputs.argmax(dim=1), minlength=100).reshape(10, 10)\n",
    "                loading_bar.set_postfix(accuracy=f\"{accuracy:.2%}\")\n",
    "        plt.figure(figsize=(10, 10))\n",
    "        plt.imshow(confusion_matrix.cpu(), interpolation='nearest')\n",
    "        plt.colorbar()\n",
    "        plt.title(\"Confusion Matrix\")\n",
    "        plt.xlabel(\"Predicted Label\")\n",
    "        plt.ylabel(\"True Label\")\n",
    "        plt.xticks(np.arange(10))\n",
    "        plt.yticks(np.arange(10))\n",
    "        plt.show()\n"
   ]
  },
  {
   "cell_type": "code",
   "execution_count": 4,
   "id": "471a348f",
   "metadata": {},
   "outputs": [],
   "source": [
    "model = ReplayCNN(input_features=1, hidden_features=32, conv_depth=2, ff_depth=2, classes=10, dropout=0.1, max_replay=1024)\n"
   ]
  },
  {
   "cell_type": "code",
   "execution_count": 5,
   "id": "f1a670c0",
   "metadata": {},
   "outputs": [
    {
     "data": {
      "application/vnd.jupyter.widget-view+json": {
       "model_id": "d0acf2ed415e4517880488cca2225099",
       "version_major": 2,
       "version_minor": 0
      },
      "text/plain": [
       "Training:   0%|          | 0/5000 [00:00<?, ?it/s]"
      ]
     },
     "metadata": {},
     "output_type": "display_data"
    },
    {
     "data": {
      "application/vnd.jupyter.widget-view+json": {
       "model_id": "e29ad6a2b29b4053ad3097744a56be61",
       "version_major": 2,
       "version_minor": 0
      },
      "text/plain": [
       "Testing:   0%|          | 0/40 [00:00<?, ?it/s]"
      ]
     },
     "metadata": {},
     "output_type": "display_data"
    },
    {
     "data": {
      "image/png": "[encoded data removed]",
      "text/plain": [
       "<Figure size 1000x1000 with 2 Axes>"
      ]
     },
     "metadata": {},
     "output_type": "display_data"
    }
   ],
   "source": [
    "model.fit(train_dataset, test_dataset)"
   ]
  }
 ],
 "metadata": {
  "kernelspec": {
   "display_name": ".venv",
   "language": "python",
   "name": "python3"
  },
  "language_info": {
   "codemirror_mode": {
    "name": "ipython",
    "version": 3
   },
   "file_extension": ".py",
   "mimetype": "text/x-python",
   "name": "python",
   "nbconvert_exporter": "python",
   "pygments_lexer": "ipython3",
   "version": "3.12.7"
  }
 },
 "nbformat": 4,
 "nbformat_minor": 5
}
