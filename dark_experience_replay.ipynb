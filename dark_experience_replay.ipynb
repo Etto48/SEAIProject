{
 "cells": [
  {
   "cell_type": "markdown",
   "id": "6573001e",
   "metadata": {},
   "source": [
    "# Dark Experience Replay++ - DER++\n",
    "Paper: [Dark Experience for General Continual Learning: a Strong, Simple Baseline](https://arxiv.org/abs/2004.07211)\n",
    "\n",
    "GitHub: [Etto48/SEAIProject](https://github.com/Etto48/SEAIProject)\n",
    "\n",
    "Dark Experience Replay++ (DER++) is a reharsal method for continual learning that uses a replay buffer to store past experiences (input data, labels and model outputs). The model is trained to minimize cross-entropy on the labels and also with Knowledge Distillation (KD) with respect to the old model outputs. The replay buffer is class-balanced avoiding forgetting on older classes. The only difference with DER is that we store also old labels while DER only stores the model outputs. This allows for a more stable convergence.\n",
    "\n"
   ]
  },
  {
   "cell_type": "code",
   "execution_count": null,
   "id": "f2f79604",
   "metadata": {},
   "outputs": [],
   "source": [
    "import torch\n",
    "torch.manual_seed(48)\n",
    "import torch.nn as nn\n",
    "from torchvision import datasets, transforms\n",
    "from torch.utils.data import IterableDataset, Dataset, DataLoader\n",
    "from tqdm.auto import tqdm\n",
    "import numpy as np\n",
    "np.random.seed(48)\n",
    "import matplotlib.pyplot as plt\n",
    "\n",
    "device = 'cuda' if torch.cuda.is_available() else 'cpu'\n",
    "torch.set_default_device(device)"
   ]
  },
  {
   "cell_type": "markdown",
   "id": "8f049c89",
   "metadata": {},
   "source": [
    "## Dataset\n",
    "We chose the SplitMNIST dataset, which is a variant of the MNIST dataset that splits the original dataset into 5 tasks, each containing 2 classes.\n",
    "We chose this dataset because this makes it easier to compare the performance of this method with our [Expert Gate](https://colab.research.google.com/github/Etto48/SEAIProject/blob/main/expert_gate.ipynb) implementation, which also uses the SplitMNIST dataset."
   ]
  },
  {
   "cell_type": "code",
   "execution_count": 2,
   "id": "3899c0a4",
   "metadata": {},
   "outputs": [],
   "source": [
    "class SplitMNIST(IterableDataset):\n",
    "    def __init__(self, classes_per_split=2, task_duration=1000, root=\"./data\", download=True):\n",
    "        self.root = root\n",
    "        self.transform = transforms.ToTensor()\n",
    "        self.download = download\n",
    "        self.dataset = datasets.MNIST(root=self.root, train=True, download=self.download)\n",
    "        self.classes_per_split = classes_per_split\n",
    "        self.buckets = self.create_buckets()\n",
    "        self.task_duration = task_duration\n",
    "\n",
    "    def create_buckets(self):\n",
    "        # Create buckets of samples with classes_per_split classes in each bucket\n",
    "        classes = np.unique(self.dataset.targets.numpy())\n",
    "        # check if classes_per_split is a divisor of the number of classes\n",
    "        if len(classes) % self.classes_per_split != 0:\n",
    "            raise ValueError(f\"Number of classes {len(classes)} is not divisible by classes_per_split {self.classes_per_split}\")\n",
    "        num_buckets = len(classes) // self.classes_per_split\n",
    "        buckets = []\n",
    "        for i in range(num_buckets):\n",
    "            start = i * self.classes_per_split\n",
    "            end = start + self.classes_per_split\n",
    "            bucket_classes = classes[start:end]\n",
    "            bucket_indices = np.isin(self.dataset.targets.numpy(), bucket_classes)\n",
    "            buckets.append(np.where(bucket_indices)[0])\n",
    "        return buckets\n",
    "    \n",
    "    def __len__(self):\n",
    "        # Return the total number of samples in the dataset\n",
    "        return len(self.buckets) * self.task_duration\n",
    "\n",
    "    def __iter__(self):\n",
    "        for current_bucket in range(len(self.buckets)):\n",
    "            for _ in range(self.task_duration):\n",
    "                bucket = self.buckets[current_bucket]\n",
    "                idx = np.random.choice(bucket)\n",
    "                img, target = self.dataset[idx]\n",
    "                img = self.transform(img)\n",
    "                target = torch.tensor(target, dtype=torch.long)\n",
    "                task_id = torch.tensor(current_bucket, dtype=torch.long)\n",
    "                yield img, target, task_id"
   ]
  },
  {
   "cell_type": "code",
   "execution_count": 3,
   "id": "cdb607ef",
   "metadata": {},
   "outputs": [],
   "source": [
    "train_dataset = SplitMNIST()\n",
    "test_dataset = datasets.MNIST(root='data', train=False, download=True, transform=train_dataset.transform, target_transform=torch.tensor)"
   ]
  },
  {
   "cell_type": "markdown",
   "id": "0663245c",
   "metadata": {},
   "source": [
    "## Model\n",
    "The model is a simple CNN classifier. The only peculiarity is that we can add a new class to the model with the function `add_class()`. This function replaces the last layer of the model with a new layer that is identical to the previous layer but with an additional randomly initialized column for the new class. This allows us to add new classes to the model without retraining the entire model from scratch. KD loss is then applied with a mask that ignores the classes that were not present at the time of sampling. To edit the model we have to reinitialize the optimizer, so we used a different optimizer for the last layer so that we need to reinitialize only the last layer optimizer. In this way Adam parameters are not lost when we add a new class. We chose SGD for the last layer because it does not have a state, so reinitializing it does not cause any problems."
   ]
  },
  {
   "cell_type": "code",
   "execution_count": null,
   "id": "bf061367",
   "metadata": {},
   "outputs": [],
   "source": [
    "class ReplayCNN(nn.Module):\n",
    "    def __init__(self, in_shape=(1, 28, 28), conv_hidden_features=16, hidden_features=64, conv_depth=2, ff_depth=3, classes=2, max_replay=512):\n",
    "        super(ReplayCNN, self).__init__()\n",
    "        self.max_replay = max_replay\n",
    "        self.replay_batch_size = 32\n",
    "        input_features = in_shape[0]\n",
    "        self.feature_extractor = nn.Sequential()\n",
    "        for i in range(conv_depth):\n",
    "            in_features = input_features if i == 0 else conv_hidden_features\n",
    "            out_features = conv_hidden_features\n",
    "            self.feature_extractor.append(nn.Conv2d(in_features, out_features, kernel_size=3, padding=1, padding_mode='reflect'))\n",
    "            self.feature_extractor.append(nn.BatchNorm2d(out_features))\n",
    "            self.feature_extractor.append(nn.ReLU())\n",
    "            self.feature_extractor.append(nn.MaxPool2d(kernel_size=2, stride=2))\n",
    "        self.feature_extractor.append(nn.Flatten())\n",
    "        self.classifier = nn.Sequential()\n",
    "        for i in range(ff_depth):\n",
    "            in_features = conv_hidden_features * (in_shape[1]//(2**conv_depth) * in_shape[2]//(2**conv_depth)) if i == 0 else hidden_features\n",
    "            out_features = hidden_features\n",
    "            self.classifier.append(nn.Linear(in_features, out_features))\n",
    "            self.classifier.append(nn.BatchNorm1d(out_features))\n",
    "            self.classifier.append(nn.ReLU())\n",
    "        self.classifier.append(nn.Dropout(0.5))\n",
    "        self.classes = classes\n",
    "        self.last_layer = nn.Linear(hidden_features, classes)\n",
    "\n",
    "        self.replay_buffer = []\n",
    "        self.class_balanced_replay_buffer = [[] for _ in range(classes)]\n",
    "        self.class_balancing = True\n",
    "        self.sgd_params = {\n",
    "            'lr': 1e-3,\n",
    "            'momentum': 0.9,\n",
    "            'weight_decay': 1e-4,\n",
    "        }\n",
    "        model_parameters = list(self.feature_extractor.parameters()) + list(self.classifier.parameters())\n",
    "        self.model_optimizer = torch.optim.Adam(model_parameters, lr=1e-3)\n",
    "        self.last_layer_optimizer = torch.optim.SGD(self.last_layer.parameters(), **self.sgd_params)\n",
    "        self.criterion = nn.CrossEntropyLoss()\n",
    "        self.kd_criterion = nn.MSELoss()\n",
    "        self.kd_weight = 0.5\n",
    "        self.eval()\n",
    "    \n",
    "    def add_class(self):\n",
    "        self.class_balanced_replay_buffer.append([])\n",
    "        old_weight = self.last_layer.weight.data.clone()\n",
    "        old_weight.requires_grad = True\n",
    "        old_bias = self.last_layer.bias.data.clone()\n",
    "        old_bias.requires_grad = True\n",
    "        self.last_layer = nn.Linear(self.last_layer.in_features, self.classes + 1)\n",
    "        self.last_layer.weight.data[:self.classes] = old_weight\n",
    "        self.last_layer.bias.data[:self.classes] = old_bias\n",
    "        self.classes += 1\n",
    "        self.last_layer_optimizer = torch.optim.SGD(self.last_layer.parameters(), **self.sgd_params)\n",
    "\n",
    "    def add_experience(self, input, target):\n",
    "        if self.class_balancing:\n",
    "            if sum([len(buffer) for buffer in self.class_balanced_replay_buffer]) >= self.max_replay:\n",
    "                bucket_idx = 0\n",
    "                for i, buffer in enumerate(self.class_balanced_replay_buffer):\n",
    "                    if len(buffer) > len(self.class_balanced_replay_buffer[bucket_idx]):\n",
    "                        bucket_idx = i\n",
    "                idx = np.random.randint(0, len(self.class_balanced_replay_buffer[bucket_idx]))\n",
    "                self.class_balanced_replay_buffer[bucket_idx].pop(idx)\n",
    "            self.class_balanced_replay_buffer[target.item()].append((input, None))\n",
    "        else:\n",
    "            if len(self.replay_buffer) >= self.max_replay:\n",
    "                idx = np.random.randint(0, len(self.replay_buffer))\n",
    "                self.replay_buffer[idx] = (input, target, None)\n",
    "            else:\n",
    "                self.replay_buffer.append((input, target, None))\n",
    "    \n",
    "    def _get_replay_buffer_as_tensor(self):\n",
    "        if self.class_balancing:\n",
    "            if sum([len(buffer) for buffer in self.class_balanced_replay_buffer]) == 0:\n",
    "                return None\n",
    "        else:\n",
    "            if len(self.replay_buffer) == 0:\n",
    "                return None\n",
    "        \n",
    "        inputs = []\n",
    "        targets = []\n",
    "        old_outputs = []\n",
    "        indices = []\n",
    "\n",
    "        if self.class_balancing:\n",
    "            while len(inputs) < self.replay_batch_size:\n",
    "                target = np.random.randint(0, self.classes)\n",
    "                buffer = self.class_balanced_replay_buffer[target]\n",
    "                if len(buffer) == 0:\n",
    "                    continue\n",
    "                idx = np.random.randint(0, len(buffer))\n",
    "                input, old_output = buffer[idx]\n",
    "                inputs.append(input)\n",
    "                targets.append(torch.tensor(target, dtype=torch.long))\n",
    "                old_outputs.append(old_output)\n",
    "                indices.append((target, idx))\n",
    "        else:\n",
    "            while len(inputs) < self.replay_batch_size:\n",
    "                idx = np.random.randint(0, len(self.replay_buffer))\n",
    "                input, target, old_output = self.replay_buffer[idx]\n",
    "                inputs.append(input)\n",
    "                targets.append(target)\n",
    "                old_outputs.append(old_output)\n",
    "                indices.append(idx)\n",
    "\n",
    "        inputs = torch.stack(inputs)\n",
    "        targets = torch.stack(targets)\n",
    "        \n",
    "        # old outputs can be of different lengths so we pad them\n",
    "        old_outputs = torch.zeros((len(old_outputs), self.classes))\n",
    "        # we will also need a mask to apply the loss only to the valid outputs\n",
    "        mask = torch.zeros((len(old_outputs), self.classes), dtype=torch.bool)\n",
    "        for i, output in enumerate(old_outputs):\n",
    "            if output is not None:    \n",
    "                old_outputs[i, :output.shape[0]] = output\n",
    "                mask[i, :output.shape[0]] = True\n",
    "        \n",
    "        return inputs, targets, old_outputs, mask, indices\n",
    "    \n",
    "    def _set_old_outputs(self, indices, old_outputs):\n",
    "        if self.class_balancing:\n",
    "            for j, (target, i) in enumerate(indices):\n",
    "                input, _ = self.class_balanced_replay_buffer[target][i]\n",
    "                self.class_balanced_replay_buffer[target][i] = (input, old_outputs[j])\n",
    "        else:\n",
    "            for i, idx in enumerate(indices):\n",
    "                input, target, _ = self.replay_buffer[idx]\n",
    "                self.replay_buffer[idx] = (input, target, old_outputs[i])\n",
    "\n",
    "    def forward(self, x):\n",
    "        x = self.feature_extractor(x)\n",
    "        x = self.classifier(x)\n",
    "        x = self.last_layer(x)\n",
    "        return x\n",
    "    \n",
    "    def replay(self):\n",
    "        self.train()\n",
    "        batch = self._get_replay_buffer_as_tensor()\n",
    "        if batch is None:\n",
    "            return 0.0, 0.0\n",
    "        self.model_optimizer.zero_grad()\n",
    "        self.last_layer_optimizer.zero_grad()\n",
    "        inputs, targets, old_outputs, mask, indices = batch\n",
    "        outputs: torch.Tensor = self(inputs)\n",
    "        accuracy: torch.Tensor = (outputs.argmax(dim=1) == targets).float().mean()\n",
    "        loss: torch.Tensor = self.criterion(outputs, targets) + self.kd_weight * self.kd_criterion(outputs[mask], old_outputs[mask])\n",
    "        loss.backward()\n",
    "        self.model_optimizer.step()\n",
    "        self.last_layer_optimizer.step()\n",
    "        self._set_old_outputs(indices, outputs.detach())\n",
    "        return loss.item(), accuracy.item()\n",
    "\n",
    "    def fit(self, train_dataset: IterableDataset, test_dataset: Dataset):\n",
    "        test_batch_size = 32\n",
    "        loading_bar = tqdm(train_dataset, desc=\"Training\", total=len(train_dataset))\n",
    "        for item_number, item in enumerate(loading_bar):\n",
    "            x, y, task = item\n",
    "            x = x.to(device)\n",
    "            y = y.to(device)\n",
    "            while y.max() >= self.classes:\n",
    "                self.add_class()\n",
    "            self.add_experience(x, y)\n",
    "            loss, accuracy = self.replay()\n",
    "            loading_bar.set_postfix(loss=loss, accuracy=f\"{accuracy:.2%}\", classes=self.classes)\n",
    "        test_loader = DataLoader(test_dataset, batch_size=test_batch_size, shuffle=True, generator=torch.Generator(device=device))\n",
    "        self.eval()\n",
    "        correct = 0\n",
    "        total = 0\n",
    "        with torch.no_grad():\n",
    "            loading_bar = tqdm(test_loader, desc=\"Testing\", total=len(test_loader))\n",
    "            confusion_matrix = torch.zeros(10, 10, dtype=torch.int64)\n",
    "            for x, y in loading_bar:\n",
    "                x = x.to(device)\n",
    "                y = y.to(device)\n",
    "                outputs = self(x)\n",
    "                total += y.shape[0]\n",
    "                correct += (outputs.argmax(dim=1) == y).sum().item()\n",
    "                accuracy = correct / total\n",
    "                confusion_matrix += torch.bincount(y * 10 + outputs.argmax(dim=1), minlength=100).reshape(10, 10)\n",
    "                loading_bar.set_postfix(accuracy=f\"{accuracy:.2%}\")\n",
    "        return confusion_matrix\n"
   ]
  },
  {
   "cell_type": "code",
   "execution_count": 5,
   "id": "471a348f",
   "metadata": {},
   "outputs": [],
   "source": [
    "model = ReplayCNN()"
   ]
  },
  {
   "cell_type": "markdown",
   "id": "01b4b2a4",
   "metadata": {},
   "source": [
    "## Training\n",
    "For each sample that the dataset provides, we add it to the replay buffer and then we sample a batch in a balanced way from the replay buffer. The batch is then used to train the model with cross-entropy loss on the labels and MSE loss on the old model outputs."
   ]
  },
  {
   "cell_type": "code",
   "execution_count": 6,
   "id": "f1a670c0",
   "metadata": {},
   "outputs": [
    {
     "data": {
      "application/vnd.jupyter.widget-view+json": {
       "model_id": "a4e4f0a38b1b46e8aef7b0c90e5a551d",
       "version_major": 2,
       "version_minor": 0
      },
      "text/plain": [
       "Training:   0%|          | 0/5000 [00:00<?, ?it/s]"
      ]
     },
     "metadata": {},
     "output_type": "display_data"
    },
    {
     "data": {
      "application/vnd.jupyter.widget-view+json": {
       "model_id": "8738159dae6240589afc1198aac8a91d",
       "version_major": 2,
       "version_minor": 0
      },
      "text/plain": [
       "Testing:   0%|          | 0/313 [00:00<?, ?it/s]"
      ]
     },
     "metadata": {},
     "output_type": "display_data"
    }
   ],
   "source": [
    "confusion_matrix = model.fit(train_dataset, test_dataset)"
   ]
  },
  {
   "cell_type": "markdown",
   "id": "33331b39",
   "metadata": {},
   "source": [
    "### Confusion Matrix\n",
    "With a confusion matrix plot we can visualize that the model is able to learn new classes without forgetting the old ones."
   ]
  },
  {
   "cell_type": "code",
   "execution_count": 7,
   "id": "04e9b0f3",
   "metadata": {},
   "outputs": [
    {
     "data": {
      "image/png": "[encoded data removed]",
      "text/plain": [
       "<Figure size 500x500 with 2 Axes>"
      ]
     },
     "metadata": {},
     "output_type": "display_data"
    }
   ],
   "source": [
    "plt.figure(figsize=(5, 5))\n",
    "plt.imshow(confusion_matrix.cpu(), interpolation='nearest')\n",
    "plt.colorbar()\n",
    "plt.title(\"Confusion Matrix\")\n",
    "plt.xlabel(\"Predicted Label\")\n",
    "plt.ylabel(\"True Label\")\n",
    "plt.xticks(np.arange(10))\n",
    "plt.yticks(np.arange(10))\n",
    "plt.show()"
   ]
  }
 ],
 "metadata": {
  "kernelspec": {
   "display_name": ".venv",
   "language": "python",
   "name": "python3"
  },
  "language_info": {
   "codemirror_mode": {
    "name": "ipython",
    "version": 3
   },
   "file_extension": ".py",
   "mimetype": "text/x-python",
   "name": "python",
   "nbconvert_exporter": "python",
   "pygments_lexer": "ipython3",
   "version": "3.12.9"
  }
 },
 "nbformat": 4,
 "nbformat_minor": 5
}
